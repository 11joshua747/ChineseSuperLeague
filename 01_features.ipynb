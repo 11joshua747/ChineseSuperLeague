{
 "cells": [
  {
   "cell_type": "code",
   "execution_count": 1,
   "id": "837524ca-3ff9-4a74-9b25-0ea752d15d94",
   "metadata": {},
   "outputs": [
    {
     "name": "stdout",
     "output_type": "stream",
     "text": [
      "✅ 数据库连接成功\n",
      "共 174 场比赛\n"
     ]
    }
   ],
   "source": [
    "import pandas as pd\n",
    "import numpy as np\n",
    "from database_manager import DatabaseManager\n",
    "\n",
    "db = DatabaseManager()\n",
    "# 按时间顺序拉全量比赛\n",
    "cursor = db.connection.cursor()\n",
    "cursor.execute(\"\"\"\n",
    "    SELECT match_id, season, match_date, home_team_id, away_team_id,\n",
    "           home_score, away_score, result\n",
    "    FROM matches\n",
    "    ORDER BY match_date;\n",
    "\"\"\")\n",
    "df = pd.DataFrame(cursor.fetchall())\n",
    "cursor.close()\n",
    "print(f'共 {df.shape[0]} 场比赛')"
   ]
  },
  {
   "cell_type": "code",
   "execution_count": 2,
   "id": "55bbaefc-0283-44e9-99b5-0a136c9e5372",
   "metadata": {},
   "outputs": [
    {
     "data": {
      "text/html": [
       "<div>\n",
       "<style scoped>\n",
       "    .dataframe tbody tr th:only-of-type {\n",
       "        vertical-align: middle;\n",
       "    }\n",
       "\n",
       "    .dataframe tbody tr th {\n",
       "        vertical-align: top;\n",
       "    }\n",
       "\n",
       "    .dataframe thead th {\n",
       "        text-align: right;\n",
       "    }\n",
       "</style>\n",
       "<table border=\"1\" class=\"dataframe\">\n",
       "  <thead>\n",
       "    <tr style=\"text-align: right;\">\n",
       "      <th></th>\n",
       "      <th>season</th>\n",
       "      <th>home_team_id</th>\n",
       "      <th>home_last3_goals</th>\n",
       "      <th>away_last3_concede</th>\n",
       "      <th>home_last2_loss</th>\n",
       "    </tr>\n",
       "  </thead>\n",
       "  <tbody>\n",
       "    <tr>\n",
       "      <th>0</th>\n",
       "      <td>2019</td>\n",
       "      <td>31</td>\n",
       "      <td>2.0</td>\n",
       "      <td>6.0</td>\n",
       "      <td>True</td>\n",
       "    </tr>\n",
       "    <tr>\n",
       "      <th>1</th>\n",
       "      <td>2019</td>\n",
       "      <td>29</td>\n",
       "      <td>12.0</td>\n",
       "      <td>1.0</td>\n",
       "      <td>True</td>\n",
       "    </tr>\n",
       "    <tr>\n",
       "      <th>2</th>\n",
       "      <td>2019</td>\n",
       "      <td>26</td>\n",
       "      <td>2.0</td>\n",
       "      <td>3.0</td>\n",
       "      <td>True</td>\n",
       "    </tr>\n",
       "    <tr>\n",
       "      <th>3</th>\n",
       "      <td>2019</td>\n",
       "      <td>7</td>\n",
       "      <td>5.0</td>\n",
       "      <td>4.0</td>\n",
       "      <td>True</td>\n",
       "    </tr>\n",
       "    <tr>\n",
       "      <th>4</th>\n",
       "      <td>2019</td>\n",
       "      <td>15</td>\n",
       "      <td>5.0</td>\n",
       "      <td>5.0</td>\n",
       "      <td>True</td>\n",
       "    </tr>\n",
       "  </tbody>\n",
       "</table>\n",
       "</div>"
      ],
      "text/plain": [
       "  season  home_team_id  home_last3_goals  away_last3_concede  home_last2_loss\n",
       "0   2019            31               2.0                 6.0             True\n",
       "1   2019            29              12.0                 1.0             True\n",
       "2   2019            26               2.0                 3.0             True\n",
       "3   2019             7               5.0                 4.0             True\n",
       "4   2019            15               5.0                 5.0             True"
      ]
     },
     "execution_count": 2,
     "metadata": {},
     "output_type": "execute_result"
    }
   ],
   "source": [
    "# 只留数字列，方便计算\n",
    "df['home_goals'] = df['home_score'].astype(int)\n",
    "df['away_goals'] = df['away_score'].astype(int)\n",
    "df['home_win']   = (df['result'] == 'H').astype(int)\n",
    "\n",
    "# ----- 特征 1：主队近 3 场进球数 -----\n",
    "df['home_last3_goals'] = (\n",
    "    df.groupby('home_team_id')['home_goals']\n",
    "      .rolling(3, min_periods=1).sum()\n",
    "      .shift(1)          # 不包含本场\n",
    "      .reset_index(level=0, drop=True)\n",
    ")\n",
    "\n",
    "# ----- 特征 2：客队近 3 场失球数 -----\n",
    "df['away_last3_concede'] = (\n",
    "    df.groupby('away_team_id')['home_goals']\n",
    "      .rolling(3, min_periods=1).sum()\n",
    "      .shift(1)\n",
    "      .reset_index(level=0, drop=True)\n",
    ")\n",
    "\n",
    "# ----- 特征 3：主队是否连败（近 2 场全输） -----\n",
    "df['home_last2_loss'] = (\n",
    "    df.groupby('home_team_id')['home_win']\n",
    "      .rolling(2, min_periods=1).sum()\n",
    "      .shift(1)\n",
    "      .reset_index(level=0, drop=True)\n",
    ") == 0\n",
    "\n",
    "df[['season', 'home_team_id', 'home_last3_goals', 'away_last3_concede', 'home_last2_loss']].head()"
   ]
  },
  {
   "cell_type": "code",
   "execution_count": 3,
   "id": "f4586ad5-1bc2-4695-9e14-b1718cde7c32",
   "metadata": {},
   "outputs": [
    {
     "name": "stdout",
     "output_type": "stream",
     "text": [
      "特征表保存完成，共 172 行\n"
     ]
    }
   ],
   "source": [
    "# 只留建模需要列\n",
    "feat_df = df[['season', 'home_team_id', 'away_team_id',\n",
    "              'home_last3_goals', 'away_last3_concede', 'home_last2_loss',\n",
    "              'result']].dropna()\n",
    "\n",
    "feat_df.to_csv(r'E:\\miniconda\\ChineseSuperLeague\\data\\features.csv', index=False)\n",
    "print(f'特征表保存完成，共 {feat_df.shape[0]} 行')"
   ]
  }
 ],
 "metadata": {
  "kernelspec": {
   "display_name": "Python (helloenv)",
   "language": "python",
   "name": "helloenv"
  },
  "language_info": {
   "codemirror_mode": {
    "name": "ipython",
    "version": 3
   },
   "file_extension": ".py",
   "mimetype": "text/x-python",
   "name": "python",
   "nbconvert_exporter": "python",
   "pygments_lexer": "ipython3",
   "version": "3.11.13"
  }
 },
 "nbformat": 4,
 "nbformat_minor": 5
}
