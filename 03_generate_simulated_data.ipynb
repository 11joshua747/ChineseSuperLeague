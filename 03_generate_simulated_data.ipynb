{
 "cells": [
  {
   "cell_type": "code",
   "execution_count": 4,
   "id": "97294663-f190-4d4b-a479-2bd64ce28878",
   "metadata": {},
   "outputs": [],
   "source": [
    "# 导入必要的库\n",
    "import random\n",
    "import sys\n",
    "from datetime import datetime, timedelta\n",
    "\n",
    "# 添加项目路径，确保能导入你自己的模块\n",
    "sys.path.append('E:/miniconda/ChineseSuperLeague')\n",
    "\n",
    "# 导入你自己写的数据库管理器\n",
    "from database_manager import DatabaseManager"
   ]
  },
  {
   "cell_type": "code",
   "execution_count": 5,
   "id": "65d4f296-54ba-4704-821d-a9814fff2ee0",
   "metadata": {},
   "outputs": [
    {
     "name": "stdout",
     "output_type": "stream",
     "text": [
      "✅ 数据库连接成功\n"
     ]
    }
   ],
   "source": [
    "# 创建数据库管理器对象（会自动连接）\n",
    "db = DatabaseManager()"
   ]
  },
  {
   "cell_type": "code",
   "execution_count": 6,
   "id": "d42cb869-af11-4fb0-ac25-32223efae7fa",
   "metadata": {},
   "outputs": [
    {
     "name": "stdout",
     "output_type": "stream",
     "text": [
      "当前数据库中的球队：\n",
      "ID: 2, 名称: 上海海港\n",
      "ID: 4, 名称: 上海申花\n",
      "ID: 3, 名称: 北京国安\n",
      "ID: 1, 名称: 山东泰山\n"
     ]
    }
   ],
   "source": [
    "# 查询所有球队的 ID\n",
    "cursor = db.connection.cursor()\n",
    "cursor.execute(\"SELECT team_id, team_name FROM teams\")\n",
    "teams = cursor.fetchall()\n",
    "cursor.close()\n",
    "\n",
    "# 显示球队列表\n",
    "print(\"当前数据库中的球队：\")\n",
    "for team in teams:\n",
    "    print(f\"ID: {team['team_id']}, 名称: {team['team_name']}\")"
   ]
  },
  {
   "cell_type": "code",
   "execution_count": 8,
   "id": "ee4eb95b-1244-48ec-a569-7d3a3e05bc38",
   "metadata": {},
   "outputs": [],
   "source": [
    "def generate_simulated_matches(num_matches=20):\n",
    "    \"\"\"\n",
    "    生成模拟比赛数据并插入数据库\n",
    "    :param num_matches: 要生成的比赛数量\n",
    "    \"\"\"\n",
    "    cursor = db.connection.cursor()\n",
    "    \n",
    "    # 假设赛季是2024\n",
    "    season = \"2024\"\n",
    "    \n",
    "    # 起始日期（比如从2024年3月1日开始）\n",
    "    start_date = datetime(2024, 3, 1)\n",
    "    \n",
    "    for i in range(num_matches):\n",
    "        # 随机选择主队和客队（不能是同一队）\n",
    "        home_team = random.choice(teams)\n",
    "        away_team = random.choice([t for t in teams if t['team_id'] != home_team['team_id']])\n",
    "        \n",
    "        # 随机生成比分（0~4）\n",
    "        home_score = random.randint(0, 4)\n",
    "        away_score = random.randint(0, 4)\n",
    "        \n",
    "        # 判断比赛结果\n",
    "        if home_score > away_score:\n",
    "            result = 'H'  # 主胜\n",
    "        elif home_score < away_score:\n",
    "            result = 'A'  # 客胜\n",
    "        else:\n",
    "            result = 'D'  # 平局\n",
    "        \n",
    "        # 比赛日期逐轮增加\n",
    "        match_date = start_date + timedelta(days=i*7)  # 每周一场比赛\n",
    "        \n",
    "        # 插入比赛数据\n",
    "        sql = \"\"\"\n",
    "        INSERT INTO matches (season, round_name, match_date, home_team_id, away_team_id, home_score, away_score, result)\n",
    "        VALUES (%s, %s, %s, %s, %s, %s, %s, %s)\n",
    "        \"\"\"\n",
    "        cursor.execute(sql, (\n",
    "            season,\n",
    "            f\"第{i+1}轮\",\n",
    "            match_date.date(),\n",
    "            home_team['team_id'],\n",
    "            away_team['team_id'],\n",
    "            home_score,\n",
    "            away_score,\n",
    "            result\n",
    "        ))\n",
    "    \n",
    "    db.connection.commit()\n",
    "    cursor.close()\n",
    "    print(f\"✅ 成功插入 {num_matches} 场模拟比赛数据！\")"
   ]
  },
  {
   "cell_type": "code",
   "execution_count": 9,
   "id": "dc8967d7-ffd5-4bb9-8bc4-f991a64cef52",
   "metadata": {},
   "outputs": [
    {
     "name": "stdout",
     "output_type": "stream",
     "text": [
      "✅ 成功插入 20 场模拟比赛数据！\n"
     ]
    }
   ],
   "source": [
    "# 生成20场模拟比赛\n",
    "generate_simulated_matches(20)"
   ]
  },
  {
   "cell_type": "code",
   "execution_count": 10,
   "id": "0895d03c-705e-45f4-bdc6-10da5c30f35e",
   "metadata": {},
   "outputs": [
    {
     "name": "stdout",
     "output_type": "stream",
     "text": [
      "2024-03-01 | 第1轮 | 上海海港 0 - 2 上海申花 | 结果: A\n",
      "2024-03-01 | 第1轮 | 上海海港 3 - 2 北京国安 | 结果: H\n",
      "2024-03-08 | 第2轮 | 山东泰山 2 - 0 上海申花 | 结果: H\n",
      "2024-03-08 | 第2轮 | 北京国安 0 - 1 山东泰山 | 结果: A\n",
      "2024-03-15 | 第3轮 | 山东泰山 2 - 1 上海申花 | 结果: H\n",
      "2024-03-15 | 第3轮 | 山东泰山 3 - 3 北京国安 | 结果: D\n",
      "2024-03-22 | 第4轮 | 山东泰山 4 - 4 北京国安 | 结果: D\n",
      "2024-03-22 | 第4轮 | 山东泰山 1 - 0 上海申花 | 结果: H\n",
      "2024-03-29 | 第5轮 | 山东泰山 2 - 3 上海海港 | 结果: A\n",
      "2024-03-29 | 第5轮 | 上海申花 2 - 2 山东泰山 | 结果: D\n",
      "2024-04-05 | 第6轮 | 山东泰山 0 - 3 北京国安 | 结果: A\n",
      "2024-04-05 | 第6轮 | 上海申花 2 - 2 山东泰山 | 结果: D\n",
      "2024-04-12 | 第7轮 | 北京国安 1 - 1 上海申花 | 结果: D\n",
      "2024-04-12 | 第7轮 | 上海海港 3 - 2 上海申花 | 结果: H\n",
      "2024-04-19 | 第8轮 | 上海海港 0 - 3 北京国安 | 结果: A\n",
      "2024-04-19 | 第8轮 | 上海申花 1 - 4 北京国安 | 结果: A\n",
      "2024-04-26 | 第9轮 | 上海申花 4 - 1 北京国安 | 结果: H\n",
      "2024-04-26 | 第9轮 | 山东泰山 1 - 3 北京国安 | 结果: A\n",
      "2024-05-03 | 第10轮 | 北京国安 3 - 2 上海申花 | 结果: H\n",
      "2024-05-03 | 第10轮 | 山东泰山 3 - 3 上海申花 | 结果: D\n",
      "2024-05-10 | 第11轮 | 山东泰山 1 - 3 上海海港 | 结果: A\n",
      "2024-05-10 | 第11轮 | 山东泰山 2 - 4 北京国安 | 结果: A\n",
      "2024-05-17 | 第12轮 | 山东泰山 0 - 3 北京国安 | 结果: A\n",
      "2024-05-17 | 第12轮 | 山东泰山 2 - 0 上海海港 | 结果: H\n",
      "2024-05-24 | 第13轮 | 上海申花 1 - 1 山东泰山 | 结果: D\n",
      "2024-05-24 | 第13轮 | 上海申花 3 - 0 上海海港 | 结果: H\n",
      "2024-05-31 | 第14轮 | 山东泰山 2 - 1 上海申花 | 结果: H\n",
      "2024-05-31 | 第14轮 | 山东泰山 4 - 3 上海海港 | 结果: H\n",
      "2024-06-07 | 第15轮 | 山东泰山 0 - 2 上海海港 | 结果: A\n",
      "2024-06-07 | 第15轮 | 上海申花 4 - 0 上海海港 | 结果: H\n",
      "2024-06-14 | 第16轮 | 山东泰山 2 - 1 上海海港 | 结果: H\n",
      "2024-06-14 | 第16轮 | 北京国安 1 - 1 山东泰山 | 结果: D\n",
      "2024-06-21 | 第17轮 | 上海海港 3 - 3 山东泰山 | 结果: D\n",
      "2024-06-21 | 第17轮 | 山东泰山 0 - 4 上海海港 | 结果: A\n",
      "2024-06-28 | 第18轮 | 上海海港 4 - 0 北京国安 | 结果: H\n",
      "2024-06-28 | 第18轮 | 上海申花 1 - 2 山东泰山 | 结果: A\n",
      "2024-07-05 | 第19轮 | 上海海港 0 - 2 山东泰山 | 结果: A\n",
      "2024-07-05 | 第19轮 | 上海海港 2 - 2 北京国安 | 结果: D\n",
      "2024-07-12 | 第20轮 | 上海申花 3 - 4 山东泰山 | 结果: A\n",
      "2024-07-12 | 第20轮 | 北京国安 3 - 3 上海申花 | 结果: D\n",
      "2024-07-19 | 第21轮 | 北京国安 2 - 3 上海海港 | 结果: A\n",
      "2024-07-26 | 第22轮 | 山东泰山 1 - 0 北京国安 | 结果: H\n",
      "2024-08-02 | 第23轮 | 上海申花 3 - 3 山东泰山 | 结果: D\n",
      "2024-08-09 | 第24轮 | 上海申花 1 - 0 上海海港 | 结果: H\n",
      "2024-08-16 | 第25轮 | 上海海港 3 - 0 北京国安 | 结果: H\n",
      "2024-08-23 | 第26轮 | 上海申花 2 - 3 北京国安 | 结果: A\n",
      "2024-08-30 | 第27轮 | 上海申花 2 - 0 北京国安 | 结果: H\n",
      "2024-09-06 | 第28轮 | 山东泰山 1 - 2 北京国安 | 结果: A\n",
      "2024-09-13 | 第29轮 | 上海海港 3 - 3 北京国安 | 结果: D\n",
      "2024-09-20 | 第30轮 | 上海申花 0 - 2 北京国安 | 结果: A\n",
      "2024-09-27 | 第31轮 | 北京国安 1 - 2 上海海港 | 结果: A\n",
      "2024-10-04 | 第32轮 | 山东泰山 0 - 2 上海申花 | 结果: A\n",
      "2024-10-11 | 第33轮 | 上海申花 1 - 0 北京国安 | 结果: H\n",
      "2024-10-18 | 第34轮 | 北京国安 2 - 0 山东泰山 | 结果: H\n",
      "2024-10-25 | 第35轮 | 山东泰山 3 - 0 北京国安 | 结果: H\n",
      "2024-11-01 | 第36轮 | 上海申花 0 - 3 上海海港 | 结果: A\n",
      "2024-11-08 | 第37轮 | 上海海港 3 - 1 山东泰山 | 结果: H\n",
      "2024-11-15 | 第38轮 | 山东泰山 2 - 0 上海海港 | 结果: H\n",
      "2024-11-22 | 第39轮 | 山东泰山 1 - 0 上海申花 | 结果: H\n",
      "2024-11-29 | 第40轮 | 山东泰山 3 - 1 上海申花 | 结果: H\n",
      "2024-12-06 | 第41轮 | 上海申花 1 - 2 山东泰山 | 结果: A\n",
      "2024-12-13 | 第42轮 | 北京国安 0 - 0 上海海港 | 结果: D\n",
      "2024-12-20 | 第43轮 | 山东泰山 0 - 2 上海申花 | 结果: A\n",
      "2024-12-27 | 第44轮 | 北京国安 0 - 2 上海海港 | 结果: A\n",
      "2025-01-03 | 第45轮 | 上海海港 0 - 2 北京国安 | 结果: A\n",
      "2025-01-10 | 第46轮 | 上海海港 1 - 3 山东泰山 | 结果: A\n",
      "2025-01-17 | 第47轮 | 山东泰山 0 - 0 上海海港 | 结果: D\n",
      "2025-01-24 | 第48轮 | 山东泰山 0 - 3 上海海港 | 结果: A\n",
      "2025-01-31 | 第49轮 | 山东泰山 2 - 1 上海申花 | 结果: H\n",
      "2025-02-07 | 第50轮 | 上海申花 2 - 1 上海海港 | 结果: H\n"
     ]
    }
   ],
   "source": [
    "# 查询并显示插入的比赛数据\n",
    "cursor = db.connection.cursor()\n",
    "cursor.execute(\"\"\"\n",
    "    SELECT m.match_id, m.season, m.round_name, m.match_date,\n",
    "           ht.team_name AS home_team, m.home_score,\n",
    "           at.team_name AS away_team, m.away_score, m.result\n",
    "    FROM matches m\n",
    "    JOIN teams ht ON m.home_team_id = ht.team_id\n",
    "    JOIN teams at ON m.away_team_id = at.team_id\n",
    "    ORDER BY m.match_date\n",
    "\"\"\")\n",
    "matches = cursor.fetchall()\n",
    "cursor.close()\n",
    "\n",
    "# 打印比赛结果\n",
    "for match in matches:\n",
    "    print(f\"{match['match_date']} | {match['round_name']} | \"\n",
    "          f\"{match['home_team']} {match['home_score']} - {match['away_score']} {match['away_team']} | 结果: {match['result']}\")"
   ]
  }
 ],
 "metadata": {
  "kernelspec": {
   "display_name": "Python (helloenv)",
   "language": "python",
   "name": "helloenv"
  },
  "language_info": {
   "codemirror_mode": {
    "name": "ipython",
    "version": 3
   },
   "file_extension": ".py",
   "mimetype": "text/x-python",
   "name": "python",
   "nbconvert_exporter": "python",
   "pygments_lexer": "ipython3",
   "version": "3.11.13"
  }
 },
 "nbformat": 4,
 "nbformat_minor": 5
}
