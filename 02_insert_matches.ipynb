{
 "cells": [
  {
   "cell_type": "code",
   "execution_count": 6,
   "id": "6de0521c-a435-48fa-ad38-169b97a2f025",
   "metadata": {},
   "outputs": [
    {
     "name": "stdout",
     "output_type": "stream",
     "text": [
      "✅ 数据库连接成功\n",
      "✅ 球队已存在: 山东泰山 (ID: 1)\n",
      "✅ 球队已存在: 上海海港 (ID: 2)\n",
      "✅ 球队已存在: 北京国安 (ID: 3)\n",
      "✅ 球队已存在: 上海申花 (ID: 4)\n",
      "❌ 批量插入比赛失败: (1062, \"Duplicate entry '2024-第6轮-1-3' for key 'matches.unique_match'\")\n",
      "✅ 数据库连接已关闭\n",
      "✅ 50 场模拟比赛已插入！\n"
     ]
    }
   ],
   "source": [
    "# 02_insert_matches.ipynb\n",
    "import sys\n",
    "sys.path.append('E:/miniconda/ChineseSuperLeague')\n",
    "from database_manager import DatabaseManager\n",
    "import random\n",
    "from datetime import datetime, timedelta\n",
    "\n",
    "# 实例化数据库管理器\n",
    "db = DatabaseManager()\n",
    "\n",
    "# 已存在的球队（上周你插入的）\n",
    "teams = [\"山东泰山\", \"上海海港\", \"北京国安\", \"上海申花\"]\n",
    "team_ids = [db.get_or_create_team(t) for t in teams]\n",
    "\n",
    "# 生成 50 场模拟比赛\n",
    "matches = []\n",
    "season = \"2024\"\n",
    "start_date = datetime(2024, 3, 1)\n",
    "\n",
    "for i in range(50):\n",
    "    home_id, away_id = random.sample(team_ids, 2)\n",
    "    match_date = start_date + timedelta(weeks=i)\n",
    "    home_score = random.randint(0, 3)\n",
    "    away_score = random.randint(0, 3)\n",
    "    result = \"H\" if home_score > away_score else (\"D\" if home_score == away_score else \"A\")\n",
    "    matches.append((season, f\"第{i+1}轮\", match_date, home_id, away_id, home_score, away_score, result))\n",
    "\n",
    "# 批量插入\n",
    "db.insert_matches(matches)\n",
    "db.close()\n",
    "print(\"✅ 50 场模拟比赛已插入！\")"
   ]
  },
  {
   "cell_type": "code",
   "execution_count": 7,
   "id": "99df214b-b68f-46ce-a1cb-378524de1017",
   "metadata": {},
   "outputs": [
    {
     "name": "stdout",
     "output_type": "stream",
     "text": [
      "False\n"
     ]
    }
   ],
   "source": [
    "import os\n",
    "print(os.path.exists('database_setup.py'))   # 应该输出 True"
   ]
  },
  {
   "cell_type": "code",
   "execution_count": 8,
   "id": "afdd0cac-2ce2-4a81-8a94-16b3610c4e66",
   "metadata": {},
   "outputs": [
    {
     "name": "stdout",
     "output_type": "stream",
     "text": [
      "✅ 数据库连接成功\n",
      "✅ 球队已存在: 山东泰山 (ID: 1)\n",
      "✅ 球队已存在: 上海海港 (ID: 2)\n",
      "✅ 球队已存在: 北京国安 (ID: 3)\n",
      "✅ 球队已存在: 上海申花 (ID: 4)\n",
      "❌ 批量插入比赛失败: (1062, \"Duplicate entry '2024-第32轮-1-4' for key 'matches.unique_match'\")\n",
      "✅ 数据库连接已关闭\n",
      "✅ 50 场模拟比赛已插入（跳过重复）！\n"
     ]
    }
   ],
   "source": [
    "# 02_insert_matches.ipynb\n",
    "import sys\n",
    "sys.path.append('E:/miniconda/ChineseSuperLeague')\n",
    "from database_manager import DatabaseManager\n",
    "import random\n",
    "from datetime import datetime, timedelta\n",
    "\n",
    "# 实例化数据库管理器\n",
    "db = DatabaseManager()\n",
    "\n",
    "# 已存在的球队（你之前插入的）\n",
    "teams = [\"山东泰山\", \"上海海港\", \"北京国安\", \"上海申花\"]\n",
    "team_ids = [db.get_or_create_team(t) for t in teams]\n",
    "\n",
    "# 生成 50 场模拟比赛\n",
    "matches = []\n",
    "season = \"2024\"\n",
    "start_date = datetime(2024, 3, 1)\n",
    "\n",
    "for i in range(50):\n",
    "    home_id, away_id = random.sample(team_ids, 2)\n",
    "    match_date = start_date + timedelta(weeks=i)\n",
    "    home_score = random.randint(0, 3)\n",
    "    away_score = random.randint(0, 3)\n",
    "    result = \"H\" if home_score > away_score else (\"D\" if home_score == away_score else \"A\")\n",
    "    matches.append((season, f\"第{i+1}轮\", match_date, home_id, away_id, home_score, away_score, result))\n",
    "\n",
    "# 批量插入（IGNORE 跳过重复）\n",
    "db.insert_matches(matches)\n",
    "db.close()\n",
    "print(\"✅ 50 场模拟比赛已插入（跳过重复）！\")"
   ]
  },
  {
   "cell_type": "code",
   "execution_count": 9,
   "id": "26ec52e3-0cca-4b08-8fcf-34584537fe1f",
   "metadata": {},
   "outputs": [
    {
     "name": "stderr",
     "output_type": "stream",
     "text": [
      "C:\\Users\\26504\\AppData\\Local\\Temp\\ipykernel_3500\\1279817394.py:4: UserWarning: pandas only supports SQLAlchemy connectable (engine/connection) or database string URI or sqlite3 DBAPI2 connection. Other DBAPI2 objects are not tested. Please consider using SQLAlchemy.\n",
      "  df = pd.read_sql(\"SELECT COUNT(*) AS total FROM matches;\", conn)\n"
     ]
    },
    {
     "data": {
      "text/html": [
       "<div>\n",
       "<style scoped>\n",
       "    .dataframe tbody tr th:only-of-type {\n",
       "        vertical-align: middle;\n",
       "    }\n",
       "\n",
       "    .dataframe tbody tr th {\n",
       "        vertical-align: top;\n",
       "    }\n",
       "\n",
       "    .dataframe thead th {\n",
       "        text-align: right;\n",
       "    }\n",
       "</style>\n",
       "<table border=\"1\" class=\"dataframe\">\n",
       "  <thead>\n",
       "    <tr style=\"text-align: right;\">\n",
       "      <th></th>\n",
       "      <th>total</th>\n",
       "    </tr>\n",
       "  </thead>\n",
       "  <tbody>\n",
       "    <tr>\n",
       "      <th>0</th>\n",
       "      <td>50</td>\n",
       "    </tr>\n",
       "  </tbody>\n",
       "</table>\n",
       "</div>"
      ],
      "text/plain": [
       "   total\n",
       "0     50"
      ]
     },
     "execution_count": 9,
     "metadata": {},
     "output_type": "execute_result"
    }
   ],
   "source": [
    "import pymysql\n",
    "import pandas as pd\n",
    "conn = pymysql.connect(host='localhost', user='root', password='123456', db='csl_prediction', charset='utf8mb4')\n",
    "df = pd.read_sql(\"SELECT COUNT(*) AS total FROM matches;\", conn)\n",
    "conn.close()\n",
    "df"
   ]
  }
 ],
 "metadata": {
  "kernelspec": {
   "display_name": "Python (helloenv)",
   "language": "python",
   "name": "helloenv"
  },
  "language_info": {
   "codemirror_mode": {
    "name": "ipython",
    "version": 3
   },
   "file_extension": ".py",
   "mimetype": "text/x-python",
   "name": "python",
   "nbconvert_exporter": "python",
   "pygments_lexer": "ipython3",
   "version": "3.11.13"
  }
 },
 "nbformat": 4,
 "nbformat_minor": 5
}
